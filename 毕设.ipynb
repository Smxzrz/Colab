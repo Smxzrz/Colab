{
  "cells": [
    {
      "cell_type": "markdown",
      "metadata": {
        "id": "view-in-github",
        "colab_type": "text"
      },
      "source": [
        "<a href=\"https://colab.research.google.com/github/Smxzrz/Colab/blob/main/%E6%AF%95%E8%AE%BE.ipynb\" target=\"_parent\"><img src=\"https://colab.research.google.com/assets/colab-badge.svg\" alt=\"Open In Colab\"/></a>"
      ]
    },
    {
      "cell_type": "code",
      "execution_count": null,
      "metadata": {
        "id": "GuzhTR3DmYXR"
      },
      "outputs": [],
      "source": [
        "!rm -rf /content/sample_data "
      ]
    },
    {
      "cell_type": "code",
      "execution_count": null,
      "metadata": {
        "id": "mSayeh30msE5"
      },
      "outputs": [],
      "source": [
        "!wget https://onemanager.smxzrz.repl.co/disk_one/helmet/yolov5.zip"
      ]
    },
    {
      "cell_type": "code",
      "execution_count": null,
      "metadata": {
        "id": "k5wmcvMVm3Dp"
      },
      "outputs": [],
      "source": [
        "!wget https://onemanager.smxzrz.repl.co/disk_one/helmet/v4/helmet.zip"
      ]
    },
    {
      "cell_type": "code",
      "execution_count": null,
      "metadata": {
        "id": "EqnN6GkcnBiM"
      },
      "outputs": [],
      "source": [
        "!unzip /content/yolov5.zip"
      ]
    },
    {
      "cell_type": "code",
      "execution_count": null,
      "metadata": {
        "id": "uDNEC6iunNRZ"
      },
      "outputs": [],
      "source": [
        "!unzip /content/helmet.zip"
      ]
    },
    {
      "cell_type": "code",
      "execution_count": null,
      "metadata": {
        "id": "9rYJZHRKnUkP"
      },
      "outputs": [],
      "source": [
        "!rm -rf /content/yolov5.zip\n",
        "!rm -rf /content/helmet.zip"
      ]
    },
    {
      "cell_type": "code",
      "execution_count": null,
      "metadata": {
        "id": "OKPyDgwRnZN2"
      },
      "outputs": [],
      "source": [
        "%cd /content/yolov5/"
      ]
    },
    {
      "cell_type": "code",
      "execution_count": null,
      "metadata": {
        "id": "Tk27O1m-ndID"
      },
      "outputs": [],
      "source": [
        "!pip install -r requirements.txt"
      ]
    },
    {
      "cell_type": "code",
      "execution_count": null,
      "metadata": {
        "id": "OaGJMJRung85"
      },
      "outputs": [],
      "source": [
        "%load_ext tensorboard\n",
        "%tensorboard --logdir=runs/train"
      ]
    },
    {
      "cell_type": "code",
      "execution_count": null,
      "metadata": {
        "id": "aLrVmjm-oXXQ"
      },
      "outputs": [],
      "source": [
        "!python train.py --rect"
      ]
    },
    {
      "cell_type": "code",
      "source": [
        "!zip -r /content/exp.zip /content/yolov5/runs/train/exp"
      ],
      "metadata": {
        "id": "3JmhgsCPjskD"
      },
      "execution_count": null,
      "outputs": []
    }
  ],
  "metadata": {
    "accelerator": "GPU",
    "colab": {
      "provenance": [],
      "authorship_tag": "ABX9TyPptMjXk3iEI+HysKR/CfY6",
      "include_colab_link": true
    },
    "gpuClass": "standard",
    "kernelspec": {
      "display_name": "Python 3",
      "name": "python3"
    },
    "language_info": {
      "name": "python"
    }
  },
  "nbformat": 4,
  "nbformat_minor": 0
}